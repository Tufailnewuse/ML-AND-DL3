{
  "metadata": {
    "kernelspec": {
      "language": "python",
      "display_name": "Python 3",
      "name": "python3"
    },
    "language_info": {
      "name": "python",
      "version": "3.10.12",
      "mimetype": "text/x-python",
      "codemirror_mode": {
        "name": "ipython",
        "version": 3
      },
      "pygments_lexer": "ipython3",
      "nbconvert_exporter": "python",
      "file_extension": ".py"
    },
    "kaggle": {
      "accelerator": "gpu",
      "dataSources": [
        {
          "sourceId": 10251430,
          "sourceType": "datasetVersion",
          "datasetId": 6340876
        }
      ],
      "dockerImageVersionId": 30823,
      "isInternetEnabled": true,
      "language": "python",
      "sourceType": "notebook",
      "isGpuEnabled": true
    },
    "colab": {
      "provenance": []
    }
  },
  "nbformat_minor": 0,
  "nbformat": 4,
  "cells": [
    {
      "cell_type": "markdown",
      "source": [
        "## 1. Import the Libraries\n",
        "NumPy is an open-source Python library used to perform various mathematical and scientific tasks. NumPy is used for working with arrays. It also has functions for working in the domain of linear algebra, Fourier transform, and matrices.\n",
        "\n",
        "Matplotlib is a plotting library, that is used for creating a figure, plotting an area in a figure, plotting some lines in a plotting area, decorating the plot with labels, etc.\n",
        "\n",
        "Pandas is a tool used for data wrangling and analysis."
      ],
      "metadata": {
        "id": "S8HBCX0Y6Y_N"
      }
    },
    {
      "cell_type": "code",
      "source": [
        "import numpy as np\n",
        "import matplotlib.pyplot as plt\n",
        "import pandas as pd"
      ],
      "metadata": {
        "trusted": true,
        "execution": {
          "iopub.status.busy": "2024-12-26T07:30:12.454564Z",
          "iopub.execute_input": "2024-12-26T07:30:12.454888Z",
          "iopub.status.idle": "2024-12-26T07:30:12.749030Z",
          "shell.execute_reply.started": "2024-12-26T07:30:12.454858Z",
          "shell.execute_reply": "2024-12-26T07:30:12.748395Z"
        },
        "id": "OPNHhfPJ6Y_w"
      },
      "outputs": [],
      "execution_count": null
    },
    {
      "cell_type": "markdown",
      "source": [
        "## 2. Load Dataset"
      ],
      "metadata": {
        "id": "kBFGSZ8G6Y_7"
      }
    },
    {
      "cell_type": "code",
      "source": [
        "dataset = pd.read_csv('/kaggle/input/social-network-ads/Social_Network_Ads.csv')"
      ],
      "metadata": {
        "trusted": true,
        "execution": {
          "iopub.status.busy": "2024-12-26T07:30:13.936647Z",
          "iopub.execute_input": "2024-12-26T07:30:13.937074Z",
          "iopub.status.idle": "2024-12-26T07:30:13.956253Z",
          "shell.execute_reply.started": "2024-12-26T07:30:13.937029Z",
          "shell.execute_reply": "2024-12-26T07:30:13.955317Z"
        },
        "id": "6wfeRLpU6Y_-"
      },
      "outputs": [],
      "execution_count": null
    },
    {
      "cell_type": "code",
      "source": [
        "dataset.head()"
      ],
      "metadata": {
        "trusted": true,
        "execution": {
          "iopub.status.busy": "2024-12-26T07:30:14.920020Z",
          "iopub.execute_input": "2024-12-26T07:30:14.920362Z",
          "iopub.status.idle": "2024-12-26T07:30:14.935629Z",
          "shell.execute_reply.started": "2024-12-26T07:30:14.920334Z",
          "shell.execute_reply": "2024-12-26T07:30:14.934740Z"
        },
        "id": "wK5Y9T2N6ZAC",
        "outputId": "5d8d2b61-ff18-4fe2-e15e-7a8c889ace84"
      },
      "outputs": [
        {
          "execution_count": 3,
          "output_type": "execute_result",
          "data": {
            "text/plain": "    User ID  Gender  Age  EstimatedSalary  Purchased\n0  15624510    Male   19            19000          0\n1  15810944    Male   35            20000          0\n2  15668575  Female   26            43000          0\n3  15603246  Female   27            57000          0\n4  15804002    Male   19            76000          0",
            "text/html": "<div>\n<style scoped>\n    .dataframe tbody tr th:only-of-type {\n        vertical-align: middle;\n    }\n\n    .dataframe tbody tr th {\n        vertical-align: top;\n    }\n\n    .dataframe thead th {\n        text-align: right;\n    }\n</style>\n<table border=\"1\" class=\"dataframe\">\n  <thead>\n    <tr style=\"text-align: right;\">\n      <th></th>\n      <th>User ID</th>\n      <th>Gender</th>\n      <th>Age</th>\n      <th>EstimatedSalary</th>\n      <th>Purchased</th>\n    </tr>\n  </thead>\n  <tbody>\n    <tr>\n      <th>0</th>\n      <td>15624510</td>\n      <td>Male</td>\n      <td>19</td>\n      <td>19000</td>\n      <td>0</td>\n    </tr>\n    <tr>\n      <th>1</th>\n      <td>15810944</td>\n      <td>Male</td>\n      <td>35</td>\n      <td>20000</td>\n      <td>0</td>\n    </tr>\n    <tr>\n      <th>2</th>\n      <td>15668575</td>\n      <td>Female</td>\n      <td>26</td>\n      <td>43000</td>\n      <td>0</td>\n    </tr>\n    <tr>\n      <th>3</th>\n      <td>15603246</td>\n      <td>Female</td>\n      <td>27</td>\n      <td>57000</td>\n      <td>0</td>\n    </tr>\n    <tr>\n      <th>4</th>\n      <td>15804002</td>\n      <td>Male</td>\n      <td>19</td>\n      <td>76000</td>\n      <td>0</td>\n    </tr>\n  </tbody>\n</table>\n</div>"
          },
          "metadata": {}
        }
      ],
      "execution_count": null
    },
    {
      "cell_type": "markdown",
      "source": [
        "## Split Dataset into X and Y"
      ],
      "metadata": {
        "id": "yWRooC2m6ZAM"
      }
    },
    {
      "cell_type": "code",
      "source": [
        "X = dataset.iloc[:, [2, 3]]\n",
        "y = dataset.iloc[:, 4]"
      ],
      "metadata": {
        "trusted": true,
        "execution": {
          "iopub.status.busy": "2024-12-26T07:30:20.154581Z",
          "iopub.execute_input": "2024-12-26T07:30:20.154876Z",
          "iopub.status.idle": "2024-12-26T07:30:20.162844Z",
          "shell.execute_reply.started": "2024-12-26T07:30:20.154854Z",
          "shell.execute_reply": "2024-12-26T07:30:20.161968Z"
        },
        "id": "ysQVXoO36ZAP"
      },
      "outputs": [],
      "execution_count": null
    },
    {
      "cell_type": "markdown",
      "source": [
        "## 4. Split the X and Y Dataset into the Training set and Test Set"
      ],
      "metadata": {
        "id": "vhg0lAi_6ZAV"
      }
    },
    {
      "cell_type": "code",
      "source": [
        "from sklearn.model_selection import train_test_split\n",
        "X_train, X_test, y_train, y_test = train_test_split(X, y, test_size = 0.25, random_state = 0)"
      ],
      "metadata": {
        "trusted": true,
        "execution": {
          "iopub.status.busy": "2024-12-26T07:30:28.998547Z",
          "iopub.execute_input": "2024-12-26T07:30:28.998855Z",
          "iopub.status.idle": "2024-12-26T07:30:29.475221Z",
          "shell.execute_reply.started": "2024-12-26T07:30:28.998830Z",
          "shell.execute_reply": "2024-12-26T07:30:29.474406Z"
        },
        "id": "IYwqVsEc6ZAZ"
      },
      "outputs": [],
      "execution_count": null
    },
    {
      "cell_type": "markdown",
      "source": [
        "## 5. Perform Feature Scaling"
      ],
      "metadata": {
        "id": "LEnU78-T6ZAf"
      }
    },
    {
      "cell_type": "code",
      "source": [
        "from sklearn.preprocessing import StandardScaler"
      ],
      "metadata": {
        "trusted": true,
        "execution": {
          "iopub.status.busy": "2024-12-26T07:30:32.409547Z",
          "iopub.execute_input": "2024-12-26T07:30:32.409958Z",
          "iopub.status.idle": "2024-12-26T07:30:32.413725Z",
          "shell.execute_reply.started": "2024-12-26T07:30:32.409936Z",
          "shell.execute_reply": "2024-12-26T07:30:32.412796Z"
        },
        "id": "Fv-buHhE6ZAj"
      },
      "outputs": [],
      "execution_count": null
    },
    {
      "cell_type": "code",
      "source": [
        "sc = StandardScaler()   # Normalization"
      ],
      "metadata": {
        "trusted": true,
        "execution": {
          "iopub.status.busy": "2024-12-26T07:30:34.894741Z",
          "iopub.execute_input": "2024-12-26T07:30:34.895034Z",
          "iopub.status.idle": "2024-12-26T07:30:34.899026Z",
          "shell.execute_reply.started": "2024-12-26T07:30:34.895012Z",
          "shell.execute_reply": "2024-12-26T07:30:34.897874Z"
        },
        "id": "BpgCXe5k6ZAn"
      },
      "outputs": [],
      "execution_count": null
    },
    {
      "cell_type": "code",
      "source": [
        "X_train = sc.fit_transform(X_train)\n",
        "X_test = sc.transform(X_test)"
      ],
      "metadata": {
        "trusted": true,
        "execution": {
          "iopub.status.busy": "2024-12-26T07:30:36.185529Z",
          "iopub.execute_input": "2024-12-26T07:30:36.185818Z",
          "iopub.status.idle": "2024-12-26T07:30:36.194752Z",
          "shell.execute_reply.started": "2024-12-26T07:30:36.185789Z",
          "shell.execute_reply": "2024-12-26T07:30:36.193991Z"
        },
        "id": "67_LYlbd6ZAt"
      },
      "outputs": [],
      "execution_count": null
    },
    {
      "cell_type": "code",
      "source": [
        "X_test\n",
        "print(X_test[:5])"
      ],
      "metadata": {
        "trusted": true,
        "execution": {
          "iopub.status.busy": "2024-12-26T07:30:56.116840Z",
          "iopub.execute_input": "2024-12-26T07:30:56.117154Z",
          "iopub.status.idle": "2024-12-26T07:30:56.121894Z",
          "shell.execute_reply.started": "2024-12-26T07:30:56.117129Z",
          "shell.execute_reply": "2024-12-26T07:30:56.121160Z"
        },
        "id": "te2Qe82x6ZAw",
        "outputId": "cfc5d3c9-1166-439b-f2fb-ed313c79b2be"
      },
      "outputs": [
        {
          "name": "stdout",
          "text": "[[-0.80480212  0.50496393]\n [-0.01254409 -0.5677824 ]\n [-0.30964085  0.1570462 ]\n [-0.80480212  0.27301877]\n [-0.30964085 -0.5677824 ]]\n",
          "output_type": "stream"
        }
      ],
      "execution_count": null
    },
    {
      "cell_type": "code",
      "source": [
        "type(X_test)"
      ],
      "metadata": {
        "trusted": true,
        "execution": {
          "iopub.status.busy": "2024-12-26T07:30:59.575533Z",
          "iopub.execute_input": "2024-12-26T07:30:59.575833Z",
          "iopub.status.idle": "2024-12-26T07:30:59.580739Z",
          "shell.execute_reply.started": "2024-12-26T07:30:59.575811Z",
          "shell.execute_reply": "2024-12-26T07:30:59.579975Z"
        },
        "id": "A-gNtiVp6ZA0",
        "outputId": "2064603b-7173-456e-d7a1-2918a5711f91"
      },
      "outputs": [
        {
          "execution_count": 12,
          "output_type": "execute_result",
          "data": {
            "text/plain": "numpy.ndarray"
          },
          "metadata": {}
        }
      ],
      "execution_count": null
    },
    {
      "cell_type": "markdown",
      "source": [
        "## SVM Kernals"
      ],
      "metadata": {
        "id": "yhb6gxIs6ZA3"
      }
    },
    {
      "cell_type": "markdown",
      "source": [
        "![image.png](attachment:f320ffb9-869e-4dfb-a852-4cbdf1f4a059.png)"
      ],
      "metadata": {
        "id": "B560kQhr6ZA5"
      }
    },
    {
      "cell_type": "markdown",
      "source": [
        "## Fit SVM to the Training"
      ],
      "metadata": {
        "id": "crJ_hsZx6ZA7"
      }
    },
    {
      "cell_type": "code",
      "source": [
        "from sklearn.svm import SVC"
      ],
      "metadata": {
        "trusted": true,
        "execution": {
          "iopub.status.busy": "2024-12-26T07:31:10.052759Z",
          "iopub.execute_input": "2024-12-26T07:31:10.053083Z",
          "iopub.status.idle": "2024-12-26T07:31:10.137724Z",
          "shell.execute_reply.started": "2024-12-26T07:31:10.053037Z",
          "shell.execute_reply": "2024-12-26T07:31:10.137065Z"
        },
        "id": "VNeHLakC6ZA9"
      },
      "outputs": [],
      "execution_count": null
    },
    {
      "cell_type": "code",
      "source": [
        "classifier = SVC (kernel = 'linear', random_state = 0)   # linear poly sigmoid\n",
        "classifier.fit (X_train, y_train)"
      ],
      "metadata": {
        "trusted": true,
        "execution": {
          "iopub.status.busy": "2024-12-26T07:31:10.790185Z",
          "iopub.execute_input": "2024-12-26T07:31:10.790565Z",
          "iopub.status.idle": "2024-12-26T07:31:10.808777Z",
          "shell.execute_reply.started": "2024-12-26T07:31:10.790537Z",
          "shell.execute_reply": "2024-12-26T07:31:10.808011Z"
        },
        "id": "sfyIIIBf6ZBA",
        "outputId": "be71f1bd-bad2-42dd-a812-55ff7a476fb1"
      },
      "outputs": [
        {
          "execution_count": 14,
          "output_type": "execute_result",
          "data": {
            "text/plain": "SVC(kernel='linear', random_state=0)",
            "text/html": "<style>#sk-container-id-1 {color: black;background-color: white;}#sk-container-id-1 pre{padding: 0;}#sk-container-id-1 div.sk-toggleable {background-color: white;}#sk-container-id-1 label.sk-toggleable__label {cursor: pointer;display: block;width: 100%;margin-bottom: 0;padding: 0.3em;box-sizing: border-box;text-align: center;}#sk-container-id-1 label.sk-toggleable__label-arrow:before {content: \"▸\";float: left;margin-right: 0.25em;color: #696969;}#sk-container-id-1 label.sk-toggleable__label-arrow:hover:before {color: black;}#sk-container-id-1 div.sk-estimator:hover label.sk-toggleable__label-arrow:before {color: black;}#sk-container-id-1 div.sk-toggleable__content {max-height: 0;max-width: 0;overflow: hidden;text-align: left;background-color: #f0f8ff;}#sk-container-id-1 div.sk-toggleable__content pre {margin: 0.2em;color: black;border-radius: 0.25em;background-color: #f0f8ff;}#sk-container-id-1 input.sk-toggleable__control:checked~div.sk-toggleable__content {max-height: 200px;max-width: 100%;overflow: auto;}#sk-container-id-1 input.sk-toggleable__control:checked~label.sk-toggleable__label-arrow:before {content: \"▾\";}#sk-container-id-1 div.sk-estimator input.sk-toggleable__control:checked~label.sk-toggleable__label {background-color: #d4ebff;}#sk-container-id-1 div.sk-label input.sk-toggleable__control:checked~label.sk-toggleable__label {background-color: #d4ebff;}#sk-container-id-1 input.sk-hidden--visually {border: 0;clip: rect(1px 1px 1px 1px);clip: rect(1px, 1px, 1px, 1px);height: 1px;margin: -1px;overflow: hidden;padding: 0;position: absolute;width: 1px;}#sk-container-id-1 div.sk-estimator {font-family: monospace;background-color: #f0f8ff;border: 1px dotted black;border-radius: 0.25em;box-sizing: border-box;margin-bottom: 0.5em;}#sk-container-id-1 div.sk-estimator:hover {background-color: #d4ebff;}#sk-container-id-1 div.sk-parallel-item::after {content: \"\";width: 100%;border-bottom: 1px solid gray;flex-grow: 1;}#sk-container-id-1 div.sk-label:hover label.sk-toggleable__label {background-color: #d4ebff;}#sk-container-id-1 div.sk-serial::before {content: \"\";position: absolute;border-left: 1px solid gray;box-sizing: border-box;top: 0;bottom: 0;left: 50%;z-index: 0;}#sk-container-id-1 div.sk-serial {display: flex;flex-direction: column;align-items: center;background-color: white;padding-right: 0.2em;padding-left: 0.2em;position: relative;}#sk-container-id-1 div.sk-item {position: relative;z-index: 1;}#sk-container-id-1 div.sk-parallel {display: flex;align-items: stretch;justify-content: center;background-color: white;position: relative;}#sk-container-id-1 div.sk-item::before, #sk-container-id-1 div.sk-parallel-item::before {content: \"\";position: absolute;border-left: 1px solid gray;box-sizing: border-box;top: 0;bottom: 0;left: 50%;z-index: -1;}#sk-container-id-1 div.sk-parallel-item {display: flex;flex-direction: column;z-index: 1;position: relative;background-color: white;}#sk-container-id-1 div.sk-parallel-item:first-child::after {align-self: flex-end;width: 50%;}#sk-container-id-1 div.sk-parallel-item:last-child::after {align-self: flex-start;width: 50%;}#sk-container-id-1 div.sk-parallel-item:only-child::after {width: 0;}#sk-container-id-1 div.sk-dashed-wrapped {border: 1px dashed gray;margin: 0 0.4em 0.5em 0.4em;box-sizing: border-box;padding-bottom: 0.4em;background-color: white;}#sk-container-id-1 div.sk-label label {font-family: monospace;font-weight: bold;display: inline-block;line-height: 1.2em;}#sk-container-id-1 div.sk-label-container {text-align: center;}#sk-container-id-1 div.sk-container {/* jupyter's `normalize.less` sets `[hidden] { display: none; }` but bootstrap.min.css set `[hidden] { display: none !important; }` so we also need the `!important` here to be able to override the default hidden behavior on the sphinx rendered scikit-learn.org. See: https://github.com/scikit-learn/scikit-learn/issues/21755 */display: inline-block !important;position: relative;}#sk-container-id-1 div.sk-text-repr-fallback {display: none;}</style><div id=\"sk-container-id-1\" class=\"sk-top-container\"><div class=\"sk-text-repr-fallback\"><pre>SVC(kernel=&#x27;linear&#x27;, random_state=0)</pre><b>In a Jupyter environment, please rerun this cell to show the HTML representation or trust the notebook. <br />On GitHub, the HTML representation is unable to render, please try loading this page with nbviewer.org.</b></div><div class=\"sk-container\" hidden><div class=\"sk-item\"><div class=\"sk-estimator sk-toggleable\"><input class=\"sk-toggleable__control sk-hidden--visually\" id=\"sk-estimator-id-1\" type=\"checkbox\" checked><label for=\"sk-estimator-id-1\" class=\"sk-toggleable__label sk-toggleable__label-arrow\">SVC</label><div class=\"sk-toggleable__content\"><pre>SVC(kernel=&#x27;linear&#x27;, random_state=0)</pre></div></div></div></div></div>"
          },
          "metadata": {}
        }
      ],
      "execution_count": null
    },
    {
      "cell_type": "markdown",
      "source": [
        "## 6. Predict the Test Set results"
      ],
      "metadata": {
        "id": "PPKZVNv26ZBD"
      }
    },
    {
      "cell_type": "code",
      "source": [
        "y_pred = classifier.predict(X_test)\n",
        "y_pred"
      ],
      "metadata": {
        "trusted": true,
        "execution": {
          "iopub.status.busy": "2024-12-26T07:31:14.502602Z",
          "iopub.execute_input": "2024-12-26T07:31:14.502887Z",
          "iopub.status.idle": "2024-12-26T07:31:14.508589Z",
          "shell.execute_reply.started": "2024-12-26T07:31:14.502866Z",
          "shell.execute_reply": "2024-12-26T07:31:14.507888Z"
        },
        "id": "pHQKzrc76ZBP",
        "outputId": "81d21224-72c1-4e1e-8bc7-5c7520458352"
      },
      "outputs": [
        {
          "execution_count": 15,
          "output_type": "execute_result",
          "data": {
            "text/plain": "array([0, 0, 0, 0, 0, 0, 0, 1, 0, 0, 0, 0, 0, 0, 0, 0, 0, 0, 1, 0, 0, 1,\n       0, 1, 0, 1, 0, 0, 0, 0, 0, 0, 1, 0, 0, 0, 0, 0, 0, 1, 0, 0, 0, 0,\n       1, 0, 0, 1, 0, 1, 1, 0, 0, 0, 1, 0, 0, 0, 0, 0, 0, 1, 0, 0, 0, 1,\n       0, 0, 0, 0, 1, 0, 0, 0, 0, 0, 1, 0, 1, 1, 1, 1, 0, 0, 1, 1, 0, 1,\n       0, 0, 0, 1, 0, 0, 0, 0, 0, 0, 1, 1])"
          },
          "metadata": {}
        }
      ],
      "execution_count": null
    },
    {
      "cell_type": "markdown",
      "source": [
        "## 7. Make the Confusion Matrix"
      ],
      "metadata": {
        "id": "Zklvbanj6ZBS"
      }
    },
    {
      "cell_type": "markdown",
      "source": [
        "![image.png](attachment:5b2ee621-e792-48c0-af8b-bf75b367fbb0.png)"
      ],
      "metadata": {
        "id": "Z6itii4q6ZBU"
      }
    },
    {
      "cell_type": "code",
      "source": [
        "from sklearn.metrics import confusion_matrix, accuracy_score"
      ],
      "metadata": {
        "trusted": true,
        "execution": {
          "iopub.status.busy": "2024-12-26T07:31:18.376584Z",
          "iopub.execute_input": "2024-12-26T07:31:18.376870Z",
          "iopub.status.idle": "2024-12-26T07:31:18.380616Z",
          "shell.execute_reply.started": "2024-12-26T07:31:18.376849Z",
          "shell.execute_reply": "2024-12-26T07:31:18.379763Z"
        },
        "id": "yvLObTke6ZBV"
      },
      "outputs": [],
      "execution_count": null
    },
    {
      "cell_type": "code",
      "source": [
        "cm = confusion_matrix(y_test, y_pred)\n",
        "print(cm)"
      ],
      "metadata": {
        "trusted": true,
        "execution": {
          "iopub.status.busy": "2024-12-26T07:31:19.428526Z",
          "iopub.execute_input": "2024-12-26T07:31:19.428846Z",
          "iopub.status.idle": "2024-12-26T07:31:19.435463Z",
          "shell.execute_reply.started": "2024-12-26T07:31:19.428812Z",
          "shell.execute_reply": "2024-12-26T07:31:19.434638Z"
        },
        "id": "ug_xLYEz6ZBX",
        "outputId": "e3e9d187-2364-422f-ba65-bee6d6f1b924"
      },
      "outputs": [
        {
          "name": "stdout",
          "text": "[[66  2]\n [ 8 24]]\n",
          "output_type": "stream"
        }
      ],
      "execution_count": null
    },
    {
      "cell_type": "code",
      "source": [
        "accuracy_score(y_test, y_pred)"
      ],
      "metadata": {
        "trusted": true,
        "execution": {
          "iopub.status.busy": "2024-12-26T07:31:20.442402Z",
          "iopub.execute_input": "2024-12-26T07:31:20.442698Z",
          "iopub.status.idle": "2024-12-26T07:31:20.448928Z",
          "shell.execute_reply.started": "2024-12-26T07:31:20.442675Z",
          "shell.execute_reply": "2024-12-26T07:31:20.448214Z"
        },
        "id": "UAcLQDPO6ZBZ",
        "outputId": "e141f9b4-23c3-4fb2-ccf7-5cda89cdce01"
      },
      "outputs": [
        {
          "execution_count": 18,
          "output_type": "execute_result",
          "data": {
            "text/plain": "0.9"
          },
          "metadata": {}
        }
      ],
      "execution_count": null
    },
    {
      "cell_type": "markdown",
      "source": [
        "## Visualise the test set results"
      ],
      "metadata": {
        "id": "zDrrZKY96ZBb"
      }
    },
    {
      "cell_type": "code",
      "source": [
        "from matplotlib.colors import ListedColormap\n",
        "X_set, y_set = X_test, y_test\n",
        "X1, X2 = np.meshgrid(np.arange(start = X_set[:, 0].min() - 1, stop = X_set[:, 0].max() + 1, step = 0.01),\n",
        "                     np.arange(start = X_set[:, 1].min() - 1, stop = X_set[:, 1].max() + 1, step = 0.01))\n",
        "plt.contourf(X1, X2, classifier.predict(np.array([X1.ravel(), X2.ravel()]).T).reshape(X1.shape),\n",
        "             alpha = 0.75, cmap = ListedColormap(('red', 'green')))\n",
        "plt.xlim(X1.min(), X1.max())\n",
        "plt.ylim(X2.min(), X2.max())\n",
        "for i, j in enumerate(np.unique(y_set)):\n",
        "    plt.scatter(X_set[y_set == j, 0], X_set[y_set == j, 1],\n",
        "                c = ListedColormap(('red', 'green'))(i), label = j)\n",
        "plt.title('SVM (Test set)')\n",
        "plt.xlabel('Age')\n",
        "plt.ylabel('Estimated Salary')\n",
        "plt.legend()\n",
        "plt.show()"
      ],
      "metadata": {
        "trusted": true,
        "execution": {
          "iopub.status.busy": "2024-12-26T07:31:26.136090Z",
          "iopub.execute_input": "2024-12-26T07:31:26.136404Z",
          "iopub.status.idle": "2024-12-26T07:31:27.162129Z",
          "shell.execute_reply.started": "2024-12-26T07:31:26.136380Z",
          "shell.execute_reply": "2024-12-26T07:31:27.161352Z"
        },
        "id": "VQX4EVjN6ZBd",
        "outputId": "a120e8bc-3577-429e-d274-81131b5bdb6e"
      },
      "outputs": [
        {
          "name": "stderr",
          "text": "<ipython-input-19-5eaa387b6804>:10: UserWarning: *c* argument looks like a single numeric RGB or RGBA sequence, which should be avoided as value-mapping will have precedence in case its length matches with *x* & *y*.  Please use the *color* keyword-argument or provide a 2D array with a single row if you intend to specify the same RGB or RGBA value for all points.\n  plt.scatter(X_set[y_set == j, 0], X_set[y_set == j, 1],\n",
          "output_type": "stream"
        },
        {
          "output_type": "display_data",
          "data": {
            "text/plain": "<Figure size 640x480 with 1 Axes>",
            "image/png": "[encoded data removed]"
          },
          "metadata": {}
        }
      ],
      "execution_count": null
    },
    {
      "cell_type": "code",
      "source": [],
      "metadata": {
        "trusted": true,
        "id": "N5qThlG26ZBh"
      },
      "outputs": [],
      "execution_count": null
    }
  ]
}