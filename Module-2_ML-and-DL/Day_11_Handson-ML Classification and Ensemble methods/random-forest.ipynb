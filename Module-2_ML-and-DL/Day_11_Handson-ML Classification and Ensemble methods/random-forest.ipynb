{
  "metadata": {
    "kernelspec": {
      "language": "python",
      "display_name": "Python 3",
      "name": "python3"
    },
    "language_info": {
      "name": "python",
      "version": "3.10.12",
      "mimetype": "text/x-python",
      "codemirror_mode": {
        "name": "ipython",
        "version": 3
      },
      "pygments_lexer": "ipython3",
      "nbconvert_exporter": "python",
      "file_extension": ".py"
    },
    "kaggle": {
      "accelerator": "none",
      "dataSources": [
        {
          "sourceId": 10296557,
          "sourceType": "datasetVersion",
          "datasetId": 6372954
        }
      ],
      "dockerImageVersionId": 30822,
      "isInternetEnabled": true,
      "language": "python",
      "sourceType": "notebook",
      "isGpuEnabled": false
    },
    "colab": {
      "provenance": []
    }
  },
  "nbformat_minor": 0,
  "nbformat": 4,
  "cells": [
    {
      "cell_type": "code",
      "source": [
        "import numpy as np # linear algebra\n",
        "import pandas as pd # data processing, CSV file I/O (e.g. pd.read_csv)\n",
        "import matplotlib.pyplot as plt # data visualization\n",
        "import seaborn as sns # statistical data visualization"
      ],
      "metadata": {
        "_uuid": "8f2839f25d086af736a60e9eeb907d3b93b6e0e5",
        "_cell_guid": "b1076dfc-b9ad-4769-8c92-a6c4dae69d19",
        "trusted": true,
        "execution": {
          "iopub.status.busy": "2024-12-26T04:38:34.105294Z",
          "iopub.execute_input": "2024-12-26T04:38:34.105694Z",
          "iopub.status.idle": "2024-12-26T04:38:35.400485Z",
          "shell.execute_reply.started": "2024-12-26T04:38:34.105664Z",
          "shell.execute_reply": "2024-12-26T04:38:35.399549Z"
        },
        "id": "r9Qi2JSe5T8e"
      },
      "outputs": [],
      "execution_count": null
    },
    {
      "cell_type": "markdown",
      "source": [
        "## Data Loading"
      ],
      "metadata": {
        "id": "Y12cM9AU5T8t"
      }
    },
    {
      "cell_type": "code",
      "source": [
        "data = '/kaggle/input/car-evaluation/car_evaluation.csv'\n",
        "\n",
        "df = pd.read_csv(data, header=None)\n",
        "df"
      ],
      "metadata": {
        "trusted": true,
        "execution": {
          "iopub.status.busy": "2024-12-26T04:38:35.802016Z",
          "iopub.execute_input": "2024-12-26T04:38:35.802615Z",
          "iopub.status.idle": "2024-12-26T04:38:35.840420Z",
          "shell.execute_reply.started": "2024-12-26T04:38:35.802580Z",
          "shell.execute_reply": "2024-12-26T04:38:35.839385Z"
        },
        "id": "H3ms04yV5T85",
        "outputId": "d5033cea-f0af-4cde-a330-cbb8ff834c4d"
      },
      "outputs": [
        {
          "execution_count": 2,
          "output_type": "execute_result",
          "data": {
            "text/plain": "          0      1      2     3      4     5      6\n0     vhigh  vhigh      2     2  small   low  unacc\n1     vhigh  vhigh      2     2  small   med  unacc\n2     vhigh  vhigh      2     2  small  high  unacc\n3     vhigh  vhigh      2     2    med   low  unacc\n4     vhigh  vhigh      2     2    med   med  unacc\n...     ...    ...    ...   ...    ...   ...    ...\n1723    low    low  5more  more    med   med   good\n1724    low    low  5more  more    med  high  vgood\n1725    low    low  5more  more    big   low  unacc\n1726    low    low  5more  more    big   med   good\n1727    low    low  5more  more    big  high  vgood\n\n[1728 rows x 7 columns]",
            "text/html": "<div>\n<style scoped>\n    .dataframe tbody tr th:only-of-type {\n        vertical-align: middle;\n    }\n\n    .dataframe tbody tr th {\n        vertical-align: top;\n    }\n\n    .dataframe thead th {\n        text-align: right;\n    }\n</style>\n<table border=\"1\" class=\"dataframe\">\n  <thead>\n    <tr style=\"text-align: right;\">\n      <th></th>\n      <th>0</th>\n      <th>1</th>\n      <th>2</th>\n      <th>3</th>\n      <th>4</th>\n      <th>5</th>\n      <th>6</th>\n    </tr>\n  </thead>\n  <tbody>\n    <tr>\n      <th>0</th>\n      <td>vhigh</td>\n      <td>vhigh</td>\n      <td>2</td>\n      <td>2</td>\n      <td>small</td>\n      <td>low</td>\n      <td>unacc</td>\n    </tr>\n    <tr>\n      <th>1</th>\n      <td>vhigh</td>\n      <td>vhigh</td>\n      <td>2</td>\n      <td>2</td>\n      <td>small</td>\n      <td>med</td>\n      <td>unacc</td>\n    </tr>\n    <tr>\n      <th>2</th>\n      <td>vhigh</td>\n      <td>vhigh</td>\n      <td>2</td>\n      <td>2</td>\n      <td>small</td>\n      <td>high</td>\n      <td>unacc</td>\n    </tr>\n    <tr>\n      <th>3</th>\n      <td>vhigh</td>\n      <td>vhigh</td>\n      <td>2</td>\n      <td>2</td>\n      <td>med</td>\n      <td>low</td>\n      <td>unacc</td>\n    </tr>\n    <tr>\n      <th>4</th>\n      <td>vhigh</td>\n      <td>vhigh</td>\n      <td>2</td>\n      <td>2</td>\n      <td>med</td>\n      <td>med</td>\n      <td>unacc</td>\n    </tr>\n    <tr>\n      <th>...</th>\n      <td>...</td>\n      <td>...</td>\n      <td>...</td>\n      <td>...</td>\n      <td>...</td>\n      <td>...</td>\n      <td>...</td>\n    </tr>\n    <tr>\n      <th>1723</th>\n      <td>low</td>\n      <td>low</td>\n      <td>5more</td>\n      <td>more</td>\n      <td>med</td>\n      <td>med</td>\n      <td>good</td>\n    </tr>\n    <tr>\n      <th>1724</th>\n      <td>low</td>\n      <td>low</td>\n      <td>5more</td>\n      <td>more</td>\n      <td>med</td>\n      <td>high</td>\n      <td>vgood</td>\n    </tr>\n    <tr>\n      <th>1725</th>\n      <td>low</td>\n      <td>low</td>\n      <td>5more</td>\n      <td>more</td>\n      <td>big</td>\n      <td>low</td>\n      <td>unacc</td>\n    </tr>\n    <tr>\n      <th>1726</th>\n      <td>low</td>\n      <td>low</td>\n      <td>5more</td>\n      <td>more</td>\n      <td>big</td>\n      <td>med</td>\n      <td>good</td>\n    </tr>\n    <tr>\n      <th>1727</th>\n      <td>low</td>\n      <td>low</td>\n      <td>5more</td>\n      <td>more</td>\n      <td>big</td>\n      <td>high</td>\n      <td>vgood</td>\n    </tr>\n  </tbody>\n</table>\n<p>1728 rows × 7 columns</p>\n</div>"
          },
          "metadata": {}
        }
      ],
      "execution_count": null
    },
    {
      "cell_type": "code",
      "source": [
        "df.shape"
      ],
      "metadata": {
        "trusted": true,
        "execution": {
          "iopub.status.busy": "2024-12-26T04:38:41.576172Z",
          "iopub.execute_input": "2024-12-26T04:38:41.576532Z",
          "iopub.status.idle": "2024-12-26T04:38:41.582607Z",
          "shell.execute_reply.started": "2024-12-26T04:38:41.576505Z",
          "shell.execute_reply": "2024-12-26T04:38:41.581634Z"
        },
        "id": "OxWm03985T8_",
        "outputId": "89d4d55f-a6d8-4192-9cb8-665d9e7c5988"
      },
      "outputs": [
        {
          "execution_count": 3,
          "output_type": "execute_result",
          "data": {
            "text/plain": "(1728, 7)"
          },
          "metadata": {}
        }
      ],
      "execution_count": null
    },
    {
      "cell_type": "code",
      "source": [
        "df.head()"
      ],
      "metadata": {
        "trusted": true,
        "execution": {
          "iopub.status.busy": "2024-12-26T04:38:42.474132Z",
          "iopub.execute_input": "2024-12-26T04:38:42.474491Z",
          "iopub.status.idle": "2024-12-26T04:38:42.485773Z",
          "shell.execute_reply.started": "2024-12-26T04:38:42.474465Z",
          "shell.execute_reply": "2024-12-26T04:38:42.484774Z"
        },
        "id": "0lA2RGxo5T9C",
        "outputId": "1e4f808a-63f5-447d-b0cf-80c5b8652dee"
      },
      "outputs": [
        {
          "execution_count": 4,
          "output_type": "execute_result",
          "data": {
            "text/plain": "       0      1  2  3      4     5      6\n0  vhigh  vhigh  2  2  small   low  unacc\n1  vhigh  vhigh  2  2  small   med  unacc\n2  vhigh  vhigh  2  2  small  high  unacc\n3  vhigh  vhigh  2  2    med   low  unacc\n4  vhigh  vhigh  2  2    med   med  unacc",
            "text/html": "<div>\n<style scoped>\n    .dataframe tbody tr th:only-of-type {\n        vertical-align: middle;\n    }\n\n    .dataframe tbody tr th {\n        vertical-align: top;\n    }\n\n    .dataframe thead th {\n        text-align: right;\n    }\n</style>\n<table border=\"1\" class=\"dataframe\">\n  <thead>\n    <tr style=\"text-align: right;\">\n      <th></th>\n      <th>0</th>\n      <th>1</th>\n      <th>2</th>\n      <th>3</th>\n      <th>4</th>\n      <th>5</th>\n      <th>6</th>\n    </tr>\n  </thead>\n  <tbody>\n    <tr>\n      <th>0</th>\n      <td>vhigh</td>\n      <td>vhigh</td>\n      <td>2</td>\n      <td>2</td>\n      <td>small</td>\n      <td>low</td>\n      <td>unacc</td>\n    </tr>\n    <tr>\n      <th>1</th>\n      <td>vhigh</td>\n      <td>vhigh</td>\n      <td>2</td>\n      <td>2</td>\n      <td>small</td>\n      <td>med</td>\n      <td>unacc</td>\n    </tr>\n    <tr>\n      <th>2</th>\n      <td>vhigh</td>\n      <td>vhigh</td>\n      <td>2</td>\n      <td>2</td>\n      <td>small</td>\n      <td>high</td>\n      <td>unacc</td>\n    </tr>\n    <tr>\n      <th>3</th>\n      <td>vhigh</td>\n      <td>vhigh</td>\n      <td>2</td>\n      <td>2</td>\n      <td>med</td>\n      <td>low</td>\n      <td>unacc</td>\n    </tr>\n    <tr>\n      <th>4</th>\n      <td>vhigh</td>\n      <td>vhigh</td>\n      <td>2</td>\n      <td>2</td>\n      <td>med</td>\n      <td>med</td>\n      <td>unacc</td>\n    </tr>\n  </tbody>\n</table>\n</div>"
          },
          "metadata": {}
        }
      ],
      "execution_count": null
    },
    {
      "cell_type": "code",
      "source": [
        "col_names = ['buying', 'maint', 'doors', 'persons', 'lug_boot', 'safety', 'class']\n",
        "\n",
        "\n",
        "df.columns = col_names\n",
        "\n",
        "col_names"
      ],
      "metadata": {
        "trusted": true,
        "execution": {
          "iopub.status.busy": "2024-12-26T04:38:48.924512Z",
          "iopub.execute_input": "2024-12-26T04:38:48.924893Z",
          "iopub.status.idle": "2024-12-26T04:38:48.932139Z",
          "shell.execute_reply.started": "2024-12-26T04:38:48.924855Z",
          "shell.execute_reply": "2024-12-26T04:38:48.930754Z"
        },
        "id": "AQ5tOcYU5T9E",
        "outputId": "54200498-78da-4285-f431-baac155dd171"
      },
      "outputs": [
        {
          "execution_count": 5,
          "output_type": "execute_result",
          "data": {
            "text/plain": "['buying', 'maint', 'doors', 'persons', 'lug_boot', 'safety', 'class']"
          },
          "metadata": {}
        }
      ],
      "execution_count": null
    },
    {
      "cell_type": "code",
      "source": [
        "# let's again preview the dataset\n",
        "\n",
        "df.head()"
      ],
      "metadata": {
        "trusted": true,
        "execution": {
          "iopub.status.busy": "2024-12-26T04:38:50.002779Z",
          "iopub.execute_input": "2024-12-26T04:38:50.003174Z",
          "iopub.status.idle": "2024-12-26T04:38:50.014379Z",
          "shell.execute_reply.started": "2024-12-26T04:38:50.003142Z",
          "shell.execute_reply": "2024-12-26T04:38:50.013320Z"
        },
        "id": "b8-J53u55T9H",
        "outputId": "bc1a1e13-9bae-459e-daec-1d527ea1f5c1"
      },
      "outputs": [
        {
          "execution_count": 6,
          "output_type": "execute_result",
          "data": {
            "text/plain": "  buying  maint doors persons lug_boot safety  class\n0  vhigh  vhigh     2       2    small    low  unacc\n1  vhigh  vhigh     2       2    small    med  unacc\n2  vhigh  vhigh     2       2    small   high  unacc\n3  vhigh  vhigh     2       2      med    low  unacc\n4  vhigh  vhigh     2       2      med    med  unacc",
            "text/html": "<div>\n<style scoped>\n    .dataframe tbody tr th:only-of-type {\n        vertical-align: middle;\n    }\n\n    .dataframe tbody tr th {\n        vertical-align: top;\n    }\n\n    .dataframe thead th {\n        text-align: right;\n    }\n</style>\n<table border=\"1\" class=\"dataframe\">\n  <thead>\n    <tr style=\"text-align: right;\">\n      <th></th>\n      <th>buying</th>\n      <th>maint</th>\n      <th>doors</th>\n      <th>persons</th>\n      <th>lug_boot</th>\n      <th>safety</th>\n      <th>class</th>\n    </tr>\n  </thead>\n  <tbody>\n    <tr>\n      <th>0</th>\n      <td>vhigh</td>\n      <td>vhigh</td>\n      <td>2</td>\n      <td>2</td>\n      <td>small</td>\n      <td>low</td>\n      <td>unacc</td>\n    </tr>\n    <tr>\n      <th>1</th>\n      <td>vhigh</td>\n      <td>vhigh</td>\n      <td>2</td>\n      <td>2</td>\n      <td>small</td>\n      <td>med</td>\n      <td>unacc</td>\n    </tr>\n    <tr>\n      <th>2</th>\n      <td>vhigh</td>\n      <td>vhigh</td>\n      <td>2</td>\n      <td>2</td>\n      <td>small</td>\n      <td>high</td>\n      <td>unacc</td>\n    </tr>\n    <tr>\n      <th>3</th>\n      <td>vhigh</td>\n      <td>vhigh</td>\n      <td>2</td>\n      <td>2</td>\n      <td>med</td>\n      <td>low</td>\n      <td>unacc</td>\n    </tr>\n    <tr>\n      <th>4</th>\n      <td>vhigh</td>\n      <td>vhigh</td>\n      <td>2</td>\n      <td>2</td>\n      <td>med</td>\n      <td>med</td>\n      <td>unacc</td>\n    </tr>\n  </tbody>\n</table>\n</div>"
          },
          "metadata": {}
        }
      ],
      "execution_count": null
    },
    {
      "cell_type": "code",
      "source": [
        "df.info()"
      ],
      "metadata": {
        "trusted": true,
        "execution": {
          "iopub.status.busy": "2024-12-26T04:39:20.049024Z",
          "iopub.execute_input": "2024-12-26T04:39:20.049398Z",
          "iopub.status.idle": "2024-12-26T04:39:20.076600Z",
          "shell.execute_reply.started": "2024-12-26T04:39:20.049368Z",
          "shell.execute_reply": "2024-12-26T04:39:20.075408Z"
        },
        "id": "FSD-N_GD5T9K",
        "outputId": "ad7f6852-622c-4d4a-e60e-cff60c11731c"
      },
      "outputs": [
        {
          "name": "stdout",
          "text": "<class 'pandas.core.frame.DataFrame'>\nRangeIndex: 1728 entries, 0 to 1727\nData columns (total 7 columns):\n #   Column    Non-Null Count  Dtype \n---  ------    --------------  ----- \n 0   buying    1728 non-null   object\n 1   maint     1728 non-null   object\n 2   doors     1728 non-null   object\n 3   persons   1728 non-null   object\n 4   lug_boot  1728 non-null   object\n 5   safety    1728 non-null   object\n 6   class     1728 non-null   object\ndtypes: object(7)\nmemory usage: 94.6+ KB\n",
          "output_type": "stream"
        }
      ],
      "execution_count": null
    },
    {
      "cell_type": "code",
      "source": [
        "col_names = ['buying', 'maint', 'doors', 'persons', 'lug_boot', 'safety', 'class']\n",
        "\n",
        "\n",
        "for col in col_names:\n",
        "\n",
        "    print(df[col].value_counts())\n"
      ],
      "metadata": {
        "trusted": true,
        "execution": {
          "iopub.status.busy": "2024-12-26T04:40:06.652136Z",
          "iopub.execute_input": "2024-12-26T04:40:06.652549Z",
          "iopub.status.idle": "2024-12-26T04:40:06.667137Z",
          "shell.execute_reply.started": "2024-12-26T04:40:06.652517Z",
          "shell.execute_reply": "2024-12-26T04:40:06.665992Z"
        },
        "id": "HZAzMwfs5T9N",
        "outputId": "09830f83-c8e8-4eea-a626-e5265e143b74"
      },
      "outputs": [
        {
          "name": "stdout",
          "text": "buying\nvhigh    432\nhigh     432\nmed      432\nlow      432\nName: count, dtype: int64\nmaint\nvhigh    432\nhigh     432\nmed      432\nlow      432\nName: count, dtype: int64\ndoors\n2        432\n3        432\n4        432\n5more    432\nName: count, dtype: int64\npersons\n2       576\n4       576\nmore    576\nName: count, dtype: int64\nlug_boot\nsmall    576\nmed      576\nbig      576\nName: count, dtype: int64\nsafety\nlow     576\nmed     576\nhigh    576\nName: count, dtype: int64\nclass\nunacc    1210\nacc       384\ngood       69\nvgood      65\nName: count, dtype: int64\n",
          "output_type": "stream"
        }
      ],
      "execution_count": null
    },
    {
      "cell_type": "code",
      "source": [
        "df['class'].value_counts()"
      ],
      "metadata": {
        "trusted": true,
        "execution": {
          "iopub.status.busy": "2024-12-26T04:41:26.822321Z",
          "iopub.execute_input": "2024-12-26T04:41:26.822678Z",
          "iopub.status.idle": "2024-12-26T04:41:26.830880Z",
          "shell.execute_reply.started": "2024-12-26T04:41:26.822655Z",
          "shell.execute_reply": "2024-12-26T04:41:26.829731Z"
        },
        "id": "g5inUNhB5T9S",
        "outputId": "36000bbd-2090-426f-dcba-f3ba2f224237"
      },
      "outputs": [
        {
          "execution_count": 9,
          "output_type": "execute_result",
          "data": {
            "text/plain": "class\nunacc    1210\nacc       384\ngood       69\nvgood      65\nName: count, dtype: int64"
          },
          "metadata": {}
        }
      ],
      "execution_count": null
    },
    {
      "cell_type": "code",
      "source": [
        "# check missing values in variables\n",
        "\n",
        "df.isnull().sum()"
      ],
      "metadata": {
        "trusted": true,
        "execution": {
          "iopub.status.busy": "2024-12-26T04:41:54.647457Z",
          "iopub.execute_input": "2024-12-26T04:41:54.647830Z",
          "iopub.status.idle": "2024-12-26T04:41:54.655339Z",
          "shell.execute_reply.started": "2024-12-26T04:41:54.647800Z",
          "shell.execute_reply": "2024-12-26T04:41:54.654455Z"
        },
        "id": "r5Xp-uQk5T9V",
        "outputId": "07b9c505-369b-40c9-afc7-cc1f1efa45b7"
      },
      "outputs": [
        {
          "execution_count": 10,
          "output_type": "execute_result",
          "data": {
            "text/plain": "buying      0\nmaint       0\ndoors       0\npersons     0\nlug_boot    0\nsafety      0\nclass       0\ndtype: int64"
          },
          "metadata": {}
        }
      ],
      "execution_count": null
    },
    {
      "cell_type": "markdown",
      "source": [
        "## Declare feature vector and target variable\n",
        "Features\n",
        "Buying: Indicates the cost of the car.\n",
        "\n",
        "Maint: Indicates the maintenance cost.\n",
        "\n",
        "Doors: Indicates the number of doors.\n",
        "\n",
        "Persons: Indicates the number of persons the car can hold.\n",
        "\n",
        "Lug_boot: Indicates the size of the luggage boot.\n",
        "\n",
        "Safety: Indicates the estimated safety of the car.\n",
        "\n",
        "Target Variable\n",
        "Class: The acceptability of the car.\n",
        "Possible values: unacc (unacceptable), acc (acceptable), good, vgood (very good)\n"
      ],
      "metadata": {
        "id": "5zfbAcLS5T9X"
      }
    },
    {
      "cell_type": "code",
      "source": [
        "X = df.drop(['class'], axis=1)\n",
        "\n",
        "\n",
        "y = df['class']"
      ],
      "metadata": {
        "trusted": true,
        "execution": {
          "iopub.status.busy": "2024-12-26T04:49:26.801512Z",
          "iopub.execute_input": "2024-12-26T04:49:26.801895Z",
          "iopub.status.idle": "2024-12-26T04:49:26.808001Z",
          "shell.execute_reply.started": "2024-12-26T04:49:26.801869Z",
          "shell.execute_reply": "2024-12-26T04:49:26.806830Z"
        },
        "id": "Dq0-FBMq5T9Y"
      },
      "outputs": [],
      "execution_count": null
    },
    {
      "cell_type": "code",
      "source": [
        "X.head()"
      ],
      "metadata": {
        "trusted": true,
        "execution": {
          "iopub.status.busy": "2024-12-26T04:50:09.679484Z",
          "iopub.execute_input": "2024-12-26T04:50:09.679939Z",
          "iopub.status.idle": "2024-12-26T04:50:09.690620Z",
          "shell.execute_reply.started": "2024-12-26T04:50:09.679902Z",
          "shell.execute_reply": "2024-12-26T04:50:09.689652Z"
        },
        "id": "uS66Cj315T9Z",
        "outputId": "490f72fd-1ab6-402c-a45d-b012ab43d83a"
      },
      "outputs": [
        {
          "execution_count": 13,
          "output_type": "execute_result",
          "data": {
            "text/plain": "  buying  maint doors persons lug_boot safety\n0  vhigh  vhigh     2       2    small    low\n1  vhigh  vhigh     2       2    small    med\n2  vhigh  vhigh     2       2    small   high\n3  vhigh  vhigh     2       2      med    low\n4  vhigh  vhigh     2       2      med    med",
            "text/html": "<div>\n<style scoped>\n    .dataframe tbody tr th:only-of-type {\n        vertical-align: middle;\n    }\n\n    .dataframe tbody tr th {\n        vertical-align: top;\n    }\n\n    .dataframe thead th {\n        text-align: right;\n    }\n</style>\n<table border=\"1\" class=\"dataframe\">\n  <thead>\n    <tr style=\"text-align: right;\">\n      <th></th>\n      <th>buying</th>\n      <th>maint</th>\n      <th>doors</th>\n      <th>persons</th>\n      <th>lug_boot</th>\n      <th>safety</th>\n    </tr>\n  </thead>\n  <tbody>\n    <tr>\n      <th>0</th>\n      <td>vhigh</td>\n      <td>vhigh</td>\n      <td>2</td>\n      <td>2</td>\n      <td>small</td>\n      <td>low</td>\n    </tr>\n    <tr>\n      <th>1</th>\n      <td>vhigh</td>\n      <td>vhigh</td>\n      <td>2</td>\n      <td>2</td>\n      <td>small</td>\n      <td>med</td>\n    </tr>\n    <tr>\n      <th>2</th>\n      <td>vhigh</td>\n      <td>vhigh</td>\n      <td>2</td>\n      <td>2</td>\n      <td>small</td>\n      <td>high</td>\n    </tr>\n    <tr>\n      <th>3</th>\n      <td>vhigh</td>\n      <td>vhigh</td>\n      <td>2</td>\n      <td>2</td>\n      <td>med</td>\n      <td>low</td>\n    </tr>\n    <tr>\n      <th>4</th>\n      <td>vhigh</td>\n      <td>vhigh</td>\n      <td>2</td>\n      <td>2</td>\n      <td>med</td>\n      <td>med</td>\n    </tr>\n  </tbody>\n</table>\n</div>"
          },
          "metadata": {}
        }
      ],
      "execution_count": null
    },
    {
      "cell_type": "markdown",
      "source": [
        "## Data Spliting"
      ],
      "metadata": {
        "id": "TADYuKzL5T9b"
      }
    },
    {
      "cell_type": "code",
      "source": [
        "# split data into training and testing sets\n",
        "\n",
        "from sklearn.model_selection import train_test_split\n",
        "\n",
        "X_train, X_test, y_train, y_test = train_test_split(X, y, test_size = 0.33, random_state = 42)\n"
      ],
      "metadata": {
        "trusted": true,
        "execution": {
          "iopub.status.busy": "2024-12-26T04:53:49.237386Z",
          "iopub.execute_input": "2024-12-26T04:53:49.237789Z",
          "iopub.status.idle": "2024-12-26T04:53:49.246229Z",
          "shell.execute_reply.started": "2024-12-26T04:53:49.237759Z",
          "shell.execute_reply": "2024-12-26T04:53:49.245051Z"
        },
        "id": "fVXRJj3a5T9c"
      },
      "outputs": [],
      "execution_count": null
    },
    {
      "cell_type": "code",
      "source": [
        "# check the shape of X_train and X_test\n",
        "\n",
        "X_train.shape, X_test.shape"
      ],
      "metadata": {
        "trusted": true,
        "execution": {
          "iopub.status.busy": "2024-12-26T04:53:51.776873Z",
          "iopub.execute_input": "2024-12-26T04:53:51.777198Z",
          "iopub.status.idle": "2024-12-26T04:53:51.783539Z",
          "shell.execute_reply.started": "2024-12-26T04:53:51.777175Z",
          "shell.execute_reply": "2024-12-26T04:53:51.782554Z"
        },
        "id": "zvRaXX0v5T9d",
        "outputId": "23a1ffef-d79d-4507-9dab-917a1766ba4c"
      },
      "outputs": [
        {
          "execution_count": 16,
          "output_type": "execute_result",
          "data": {
            "text/plain": "((1157, 6), (571, 6))"
          },
          "metadata": {}
        }
      ],
      "execution_count": null
    },
    {
      "cell_type": "code",
      "source": [
        "X_train.head()"
      ],
      "metadata": {
        "trusted": true,
        "execution": {
          "iopub.status.busy": "2024-12-26T04:54:29.783114Z",
          "iopub.execute_input": "2024-12-26T04:54:29.783482Z",
          "iopub.status.idle": "2024-12-26T04:54:29.795726Z",
          "shell.execute_reply.started": "2024-12-26T04:54:29.783456Z",
          "shell.execute_reply": "2024-12-26T04:54:29.794461Z"
        },
        "id": "iKSamGOh5T9f",
        "outputId": "60461be1-5e3d-4f04-c316-acdd7a5fa718"
      },
      "outputs": [
        {
          "execution_count": 18,
          "output_type": "execute_result",
          "data": {
            "text/plain": "     buying  maint  doors persons lug_boot safety\n48    vhigh  vhigh      3    more      med    low\n468    high  vhigh      3       4    small    low\n155   vhigh   high      3    more    small   high\n1721    low    low  5more    more    small   high\n1208    med    low      2    more    small   high",
            "text/html": "<div>\n<style scoped>\n    .dataframe tbody tr th:only-of-type {\n        vertical-align: middle;\n    }\n\n    .dataframe tbody tr th {\n        vertical-align: top;\n    }\n\n    .dataframe thead th {\n        text-align: right;\n    }\n</style>\n<table border=\"1\" class=\"dataframe\">\n  <thead>\n    <tr style=\"text-align: right;\">\n      <th></th>\n      <th>buying</th>\n      <th>maint</th>\n      <th>doors</th>\n      <th>persons</th>\n      <th>lug_boot</th>\n      <th>safety</th>\n    </tr>\n  </thead>\n  <tbody>\n    <tr>\n      <th>48</th>\n      <td>vhigh</td>\n      <td>vhigh</td>\n      <td>3</td>\n      <td>more</td>\n      <td>med</td>\n      <td>low</td>\n    </tr>\n    <tr>\n      <th>468</th>\n      <td>high</td>\n      <td>vhigh</td>\n      <td>3</td>\n      <td>4</td>\n      <td>small</td>\n      <td>low</td>\n    </tr>\n    <tr>\n      <th>155</th>\n      <td>vhigh</td>\n      <td>high</td>\n      <td>3</td>\n      <td>more</td>\n      <td>small</td>\n      <td>high</td>\n    </tr>\n    <tr>\n      <th>1721</th>\n      <td>low</td>\n      <td>low</td>\n      <td>5more</td>\n      <td>more</td>\n      <td>small</td>\n      <td>high</td>\n    </tr>\n    <tr>\n      <th>1208</th>\n      <td>med</td>\n      <td>low</td>\n      <td>2</td>\n      <td>more</td>\n      <td>small</td>\n      <td>high</td>\n    </tr>\n  </tbody>\n</table>\n</div>"
          },
          "metadata": {}
        }
      ],
      "execution_count": null
    },
    {
      "cell_type": "markdown",
      "source": [
        "## Features Engineering\n",
        "An ordinal categorical data type refers to data that has distinct categories with a meaningful order or ranking between them"
      ],
      "metadata": {
        "id": "H3FU7pKr5T9i"
      }
    },
    {
      "cell_type": "code",
      "source": [
        "# import category encoders\n",
        "\n",
        "import category_encoders as ce"
      ],
      "metadata": {
        "trusted": true,
        "execution": {
          "iopub.status.busy": "2024-12-26T04:55:01.879798Z",
          "iopub.execute_input": "2024-12-26T04:55:01.880142Z",
          "iopub.status.idle": "2024-12-26T04:55:02.270968Z",
          "shell.execute_reply.started": "2024-12-26T04:55:01.880116Z",
          "shell.execute_reply": "2024-12-26T04:55:02.269891Z"
        },
        "id": "egl1pHGs5T9k"
      },
      "outputs": [],
      "execution_count": null
    },
    {
      "cell_type": "markdown",
      "source": [
        "OrdinalEncoder maps each unique category in the specified columns to an integer value based on their order."
      ],
      "metadata": {
        "id": "-oMctF565UAK"
      }
    },
    {
      "cell_type": "code",
      "source": [
        "# encode categorical variables with ordinal encoding\n",
        "\n",
        "encoder = ce.OrdinalEncoder(cols=['buying', 'maint', 'doors', 'persons', 'lug_boot', 'safety'])\n",
        "\n",
        "\n",
        "X_train = encoder.fit_transform(X_train)\n",
        "\n",
        "X_test = encoder.transform(X_test)"
      ],
      "metadata": {
        "trusted": true,
        "execution": {
          "iopub.status.busy": "2024-12-26T05:05:49.202028Z",
          "iopub.execute_input": "2024-12-26T05:05:49.202619Z",
          "iopub.status.idle": "2024-12-26T05:05:49.252861Z",
          "shell.execute_reply.started": "2024-12-26T05:05:49.202585Z",
          "shell.execute_reply": "2024-12-26T05:05:49.251723Z"
        },
        "id": "qu1AXX1k5UAL"
      },
      "outputs": [],
      "execution_count": null
    },
    {
      "cell_type": "code",
      "source": [
        "X_train.head()"
      ],
      "metadata": {
        "trusted": true,
        "execution": {
          "iopub.status.busy": "2024-12-26T05:20:55.146574Z",
          "iopub.execute_input": "2024-12-26T05:20:55.146991Z",
          "iopub.status.idle": "2024-12-26T05:20:55.157140Z",
          "shell.execute_reply.started": "2024-12-26T05:20:55.146958Z",
          "shell.execute_reply": "2024-12-26T05:20:55.156064Z"
        },
        "id": "nFKitj4t5UAM",
        "outputId": "850d7e31-5af3-4343-9ded-30f2101dea7b"
      },
      "outputs": [
        {
          "execution_count": 24,
          "output_type": "execute_result",
          "data": {
            "text/plain": "      buying  maint  doors  persons  lug_boot  safety\n48         1      1      1        1         1       1\n468        2      1      1        2         2       1\n155        1      2      1        1         2       2\n1721       3      3      2        1         2       2\n1208       4      3      3        1         2       2",
            "text/html": "<div>\n<style scoped>\n    .dataframe tbody tr th:only-of-type {\n        vertical-align: middle;\n    }\n\n    .dataframe tbody tr th {\n        vertical-align: top;\n    }\n\n    .dataframe thead th {\n        text-align: right;\n    }\n</style>\n<table border=\"1\" class=\"dataframe\">\n  <thead>\n    <tr style=\"text-align: right;\">\n      <th></th>\n      <th>buying</th>\n      <th>maint</th>\n      <th>doors</th>\n      <th>persons</th>\n      <th>lug_boot</th>\n      <th>safety</th>\n    </tr>\n  </thead>\n  <tbody>\n    <tr>\n      <th>48</th>\n      <td>1</td>\n      <td>1</td>\n      <td>1</td>\n      <td>1</td>\n      <td>1</td>\n      <td>1</td>\n    </tr>\n    <tr>\n      <th>468</th>\n      <td>2</td>\n      <td>1</td>\n      <td>1</td>\n      <td>2</td>\n      <td>2</td>\n      <td>1</td>\n    </tr>\n    <tr>\n      <th>155</th>\n      <td>1</td>\n      <td>2</td>\n      <td>1</td>\n      <td>1</td>\n      <td>2</td>\n      <td>2</td>\n    </tr>\n    <tr>\n      <th>1721</th>\n      <td>3</td>\n      <td>3</td>\n      <td>2</td>\n      <td>1</td>\n      <td>2</td>\n      <td>2</td>\n    </tr>\n    <tr>\n      <th>1208</th>\n      <td>4</td>\n      <td>3</td>\n      <td>3</td>\n      <td>1</td>\n      <td>2</td>\n      <td>2</td>\n    </tr>\n  </tbody>\n</table>\n</div>"
          },
          "metadata": {}
        }
      ],
      "execution_count": null
    },
    {
      "cell_type": "code",
      "source": [
        "X_test.head()"
      ],
      "metadata": {
        "trusted": true,
        "execution": {
          "iopub.status.busy": "2024-12-26T05:20:57.638903Z",
          "iopub.execute_input": "2024-12-26T05:20:57.639226Z",
          "iopub.status.idle": "2024-12-26T05:20:57.648778Z",
          "shell.execute_reply.started": "2024-12-26T05:20:57.639203Z",
          "shell.execute_reply": "2024-12-26T05:20:57.647661Z"
        },
        "id": "27ZkrzH65UAO",
        "outputId": "fe1ec35f-0b79-4e2e-c2d2-5c329ba86786"
      },
      "outputs": [
        {
          "execution_count": 25,
          "output_type": "execute_result",
          "data": {
            "text/plain": "      buying  maint  doors  persons  lug_boot  safety\n599        2      2      4        3         1       2\n1201       4      3      3        2         1       3\n628        2      2      2        3         3       3\n1498       3      2      2        2         1       3\n1263       4      3      4        1         1       1",
            "text/html": "<div>\n<style scoped>\n    .dataframe tbody tr th:only-of-type {\n        vertical-align: middle;\n    }\n\n    .dataframe tbody tr th {\n        vertical-align: top;\n    }\n\n    .dataframe thead th {\n        text-align: right;\n    }\n</style>\n<table border=\"1\" class=\"dataframe\">\n  <thead>\n    <tr style=\"text-align: right;\">\n      <th></th>\n      <th>buying</th>\n      <th>maint</th>\n      <th>doors</th>\n      <th>persons</th>\n      <th>lug_boot</th>\n      <th>safety</th>\n    </tr>\n  </thead>\n  <tbody>\n    <tr>\n      <th>599</th>\n      <td>2</td>\n      <td>2</td>\n      <td>4</td>\n      <td>3</td>\n      <td>1</td>\n      <td>2</td>\n    </tr>\n    <tr>\n      <th>1201</th>\n      <td>4</td>\n      <td>3</td>\n      <td>3</td>\n      <td>2</td>\n      <td>1</td>\n      <td>3</td>\n    </tr>\n    <tr>\n      <th>628</th>\n      <td>2</td>\n      <td>2</td>\n      <td>2</td>\n      <td>3</td>\n      <td>3</td>\n      <td>3</td>\n    </tr>\n    <tr>\n      <th>1498</th>\n      <td>3</td>\n      <td>2</td>\n      <td>2</td>\n      <td>2</td>\n      <td>1</td>\n      <td>3</td>\n    </tr>\n    <tr>\n      <th>1263</th>\n      <td>4</td>\n      <td>3</td>\n      <td>4</td>\n      <td>1</td>\n      <td>1</td>\n      <td>1</td>\n    </tr>\n  </tbody>\n</table>\n</div>"
          },
          "metadata": {}
        }
      ],
      "execution_count": null
    },
    {
      "cell_type": "markdown",
      "source": [
        "## Random Forest Classifier model with default parameters"
      ],
      "metadata": {
        "id": "qLwaRbvY5UAQ"
      }
    },
    {
      "cell_type": "code",
      "source": [
        "from sklearn.ensemble import RandomForestClassifier\n"
      ],
      "metadata": {
        "trusted": true,
        "id": "LmhnfJYe5UAR"
      },
      "outputs": [],
      "execution_count": null
    },
    {
      "cell_type": "code",
      "source": [
        "# instantiate the classifier\n",
        "rfc = RandomForestClassifier(n_estimators=10, random_state=0)\n",
        "# fit the model\n",
        "rfc.fit(X_train, y_train)"
      ],
      "metadata": {
        "trusted": true,
        "execution": {
          "iopub.status.busy": "2024-12-26T05:34:04.847232Z",
          "iopub.execute_input": "2024-12-26T05:34:04.847642Z",
          "iopub.status.idle": "2024-12-26T05:34:04.881621Z",
          "shell.execute_reply.started": "2024-12-26T05:34:04.847612Z",
          "shell.execute_reply": "2024-12-26T05:34:04.880563Z"
        },
        "id": "hKnzLEsL5UAS",
        "outputId": "590f6438-9da8-4441-bb4d-5acd84ed883d"
      },
      "outputs": [
        {
          "execution_count": 35,
          "output_type": "execute_result",
          "data": {
            "text/plain": "RandomForestClassifier(n_estimators=10, random_state=0)",
            "text/html": "<style>#sk-container-id-2 {color: black;background-color: white;}#sk-container-id-2 pre{padding: 0;}#sk-container-id-2 div.sk-toggleable {background-color: white;}#sk-container-id-2 label.sk-toggleable__label {cursor: pointer;display: block;width: 100%;margin-bottom: 0;padding: 0.3em;box-sizing: border-box;text-align: center;}#sk-container-id-2 label.sk-toggleable__label-arrow:before {content: \"▸\";float: left;margin-right: 0.25em;color: #696969;}#sk-container-id-2 label.sk-toggleable__label-arrow:hover:before {color: black;}#sk-container-id-2 div.sk-estimator:hover label.sk-toggleable__label-arrow:before {color: black;}#sk-container-id-2 div.sk-toggleable__content {max-height: 0;max-width: 0;overflow: hidden;text-align: left;background-color: #f0f8ff;}#sk-container-id-2 div.sk-toggleable__content pre {margin: 0.2em;color: black;border-radius: 0.25em;background-color: #f0f8ff;}#sk-container-id-2 input.sk-toggleable__control:checked~div.sk-toggleable__content {max-height: 200px;max-width: 100%;overflow: auto;}#sk-container-id-2 input.sk-toggleable__control:checked~label.sk-toggleable__label-arrow:before {content: \"▾\";}#sk-container-id-2 div.sk-estimator input.sk-toggleable__control:checked~label.sk-toggleable__label {background-color: #d4ebff;}#sk-container-id-2 div.sk-label input.sk-toggleable__control:checked~label.sk-toggleable__label {background-color: #d4ebff;}#sk-container-id-2 input.sk-hidden--visually {border: 0;clip: rect(1px 1px 1px 1px);clip: rect(1px, 1px, 1px, 1px);height: 1px;margin: -1px;overflow: hidden;padding: 0;position: absolute;width: 1px;}#sk-container-id-2 div.sk-estimator {font-family: monospace;background-color: #f0f8ff;border: 1px dotted black;border-radius: 0.25em;box-sizing: border-box;margin-bottom: 0.5em;}#sk-container-id-2 div.sk-estimator:hover {background-color: #d4ebff;}#sk-container-id-2 div.sk-parallel-item::after {content: \"\";width: 100%;border-bottom: 1px solid gray;flex-grow: 1;}#sk-container-id-2 div.sk-label:hover label.sk-toggleable__label {background-color: #d4ebff;}#sk-container-id-2 div.sk-serial::before {content: \"\";position: absolute;border-left: 1px solid gray;box-sizing: border-box;top: 0;bottom: 0;left: 50%;z-index: 0;}#sk-container-id-2 div.sk-serial {display: flex;flex-direction: column;align-items: center;background-color: white;padding-right: 0.2em;padding-left: 0.2em;position: relative;}#sk-container-id-2 div.sk-item {position: relative;z-index: 1;}#sk-container-id-2 div.sk-parallel {display: flex;align-items: stretch;justify-content: center;background-color: white;position: relative;}#sk-container-id-2 div.sk-item::before, #sk-container-id-2 div.sk-parallel-item::before {content: \"\";position: absolute;border-left: 1px solid gray;box-sizing: border-box;top: 0;bottom: 0;left: 50%;z-index: -1;}#sk-container-id-2 div.sk-parallel-item {display: flex;flex-direction: column;z-index: 1;position: relative;background-color: white;}#sk-container-id-2 div.sk-parallel-item:first-child::after {align-self: flex-end;width: 50%;}#sk-container-id-2 div.sk-parallel-item:last-child::after {align-self: flex-start;width: 50%;}#sk-container-id-2 div.sk-parallel-item:only-child::after {width: 0;}#sk-container-id-2 div.sk-dashed-wrapped {border: 1px dashed gray;margin: 0 0.4em 0.5em 0.4em;box-sizing: border-box;padding-bottom: 0.4em;background-color: white;}#sk-container-id-2 div.sk-label label {font-family: monospace;font-weight: bold;display: inline-block;line-height: 1.2em;}#sk-container-id-2 div.sk-label-container {text-align: center;}#sk-container-id-2 div.sk-container {/* jupyter's `normalize.less` sets `[hidden] { display: none; }` but bootstrap.min.css set `[hidden] { display: none !important; }` so we also need the `!important` here to be able to override the default hidden behavior on the sphinx rendered scikit-learn.org. See: https://github.com/scikit-learn/scikit-learn/issues/21755 */display: inline-block !important;position: relative;}#sk-container-id-2 div.sk-text-repr-fallback {display: none;}</style><div id=\"sk-container-id-2\" class=\"sk-top-container\"><div class=\"sk-text-repr-fallback\"><pre>RandomForestClassifier(n_estimators=10, random_state=0)</pre><b>In a Jupyter environment, please rerun this cell to show the HTML representation or trust the notebook. <br />On GitHub, the HTML representation is unable to render, please try loading this page with nbviewer.org.</b></div><div class=\"sk-container\" hidden><div class=\"sk-item\"><div class=\"sk-estimator sk-toggleable\"><input class=\"sk-toggleable__control sk-hidden--visually\" id=\"sk-estimator-id-2\" type=\"checkbox\" checked><label for=\"sk-estimator-id-2\" class=\"sk-toggleable__label sk-toggleable__label-arrow\">RandomForestClassifier</label><div class=\"sk-toggleable__content\"><pre>RandomForestClassifier(n_estimators=10, random_state=0)</pre></div></div></div></div></div>"
          },
          "metadata": {}
        }
      ],
      "execution_count": null
    },
    {
      "cell_type": "code",
      "source": [
        "# Predict the Test set results\n",
        "\n",
        "y_pred = rfc.predict(X_test)"
      ],
      "metadata": {
        "trusted": true,
        "execution": {
          "iopub.status.busy": "2024-12-26T05:34:07.269029Z",
          "iopub.execute_input": "2024-12-26T05:34:07.269374Z",
          "iopub.status.idle": "2024-12-26T05:34:07.277089Z",
          "shell.execute_reply.started": "2024-12-26T05:34:07.269347Z",
          "shell.execute_reply": "2024-12-26T05:34:07.275968Z"
        },
        "id": "_cGfV-fb5UAU"
      },
      "outputs": [],
      "execution_count": null
    },
    {
      "cell_type": "code",
      "source": [
        "from sklearn.metrics import accuracy_score\n",
        "\n",
        "print('Model accuracy score with 10 decision-trees : {0:0.4f}'. format(accuracy_score(y_test, y_pred)))"
      ],
      "metadata": {
        "trusted": true,
        "execution": {
          "iopub.status.busy": "2024-12-26T05:34:08.686122Z",
          "iopub.execute_input": "2024-12-26T05:34:08.686536Z",
          "iopub.status.idle": "2024-12-26T05:34:08.693968Z",
          "shell.execute_reply.started": "2024-12-26T05:34:08.686502Z",
          "shell.execute_reply": "2024-12-26T05:34:08.692757Z"
        },
        "id": "BL9dTkZN5UAW",
        "outputId": "c06574d3-0941-454c-e7c0-2f9813b386b5"
      },
      "outputs": [
        {
          "name": "stdout",
          "text": "Model accuracy score with 10 decision-trees : 0.9247\n",
          "output_type": "stream"
        }
      ],
      "execution_count": null
    },
    {
      "cell_type": "code",
      "source": [
        "# instantiate the classifier with n_estimators = 100\n",
        "\n",
        "rfc_100 = RandomForestClassifier(n_estimators=100, random_state=0)\n",
        "\n",
        "\n",
        "\n",
        "# fit the model to the training set\n",
        "\n",
        "rfc_100.fit(X_train, y_train)\n",
        "\n",
        "\n",
        "\n",
        "# Predict on the test set results\n",
        "\n",
        "y_pred_100 = rfc_100.predict(X_test)\n",
        "\n",
        "\n",
        "\n",
        "# Check accuracy score\n",
        "\n",
        "print('Model accuracy score with 100 decision-trees : {0:0.4f}'. format(accuracy_score(y_test, y_pred_100)))"
      ],
      "metadata": {
        "trusted": true,
        "execution": {
          "iopub.status.busy": "2024-12-26T05:34:20.298189Z",
          "iopub.execute_input": "2024-12-26T05:34:20.298603Z",
          "iopub.status.idle": "2024-12-26T05:34:20.525194Z",
          "shell.execute_reply.started": "2024-12-26T05:34:20.298575Z",
          "shell.execute_reply": "2024-12-26T05:34:20.524152Z"
        },
        "id": "JgW8twmZ5UAX",
        "outputId": "96097d89-4971-4d29-ee68-1b876754704d"
      },
      "outputs": [
        {
          "name": "stdout",
          "text": "Model accuracy score with 100 decision-trees : 0.9457\n",
          "output_type": "stream"
        }
      ],
      "execution_count": null
    },
    {
      "cell_type": "code",
      "source": [],
      "metadata": {
        "trusted": true,
        "id": "wYj9LrzG5UAY"
      },
      "outputs": [],
      "execution_count": null
    },
    {
      "cell_type": "code",
      "source": [
        "# Print the Confusion Matrix and slice it into four pieces\n",
        "\n",
        "from sklearn.metrics import confusion_matrix\n",
        "\n",
        "cm = confusion_matrix(y_test, y_pred)\n",
        "\n",
        "print('Confusion matrix\\n\\n', cm)\n",
        "\n"
      ],
      "metadata": {
        "trusted": true,
        "execution": {
          "iopub.status.busy": "2024-12-26T05:34:28.338499Z",
          "iopub.execute_input": "2024-12-26T05:34:28.338959Z",
          "iopub.status.idle": "2024-12-26T05:34:28.349187Z",
          "shell.execute_reply.started": "2024-12-26T05:34:28.338913Z",
          "shell.execute_reply": "2024-12-26T05:34:28.348006Z"
        },
        "id": "tPkI2FfM5UAd",
        "outputId": "67606b3f-2e24-4410-8458-18c974574dd8"
      },
      "outputs": [
        {
          "name": "stdout",
          "text": "Confusion matrix\n\n [[109  12   7   1]\n [  3  15   1   1]\n [ 13   0 384   0]\n [  3   2   0  20]]\n",
          "output_type": "stream"
        }
      ],
      "execution_count": null
    },
    {
      "cell_type": "code",
      "source": [
        "from sklearn.metrics import classification_report\n",
        "\n",
        "print(classification_report(y_test, y_pred))"
      ],
      "metadata": {
        "trusted": true,
        "execution": {
          "iopub.status.busy": "2024-12-25T15:41:36.994956Z",
          "iopub.execute_input": "2024-12-25T15:41:36.995452Z",
          "iopub.status.idle": "2024-12-25T15:41:37.037206Z",
          "shell.execute_reply.started": "2024-12-25T15:41:36.995411Z",
          "shell.execute_reply": "2024-12-25T15:41:37.036162Z"
        },
        "id": "EaafDmEb5UAr",
        "outputId": "d7927cff-fff7-451a-9ade-11473b02f393"
      },
      "outputs": [
        {
          "name": "stdout",
          "text": "              precision    recall  f1-score   support\n\n         acc       0.90      0.88      0.89       129\n        good       0.61      0.85      0.71        20\n       unacc       0.99      0.98      0.98       397\n       vgood       0.87      0.80      0.83        25\n\n    accuracy                           0.95       571\n   macro avg       0.84      0.88      0.85       571\nweighted avg       0.95      0.95      0.95       571\n\n",
          "output_type": "stream"
        }
      ],
      "execution_count": null
    },
    {
      "cell_type": "code",
      "source": [],
      "metadata": {
        "trusted": true,
        "id": "I_R_LBWA5UAt"
      },
      "outputs": [],
      "execution_count": null
    }
  ]
}